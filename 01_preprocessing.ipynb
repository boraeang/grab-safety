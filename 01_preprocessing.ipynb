{
 "cells": [
  {
   "cell_type": "code",
   "execution_count": 1,
   "metadata": {},
   "outputs": [],
   "source": [
    "import pandas as pd\n",
    "import numpy as np\n",
    "from os import listdir\n",
    "from os.path import isfile, join\n",
    "\n",
    "def expand_interpolate(_filename):\n",
    "    \n",
    "    data_cols = ['Accuracy','Bearing',\n",
    "                 'acceleration_x','acceleration_y','acceleration_z',\n",
    "                 'gyro_x','gyro_y','gyro_z',\n",
    "                 'Speed','second']\n",
    "    \n",
    "    print(\"Processing %s\" %_filename)\n",
    "    df = pd.read_csv('./data/0-raw_data/safety/features/'+_filename)\n",
    "    df = df.sort_values(by=['bookingID','second']).reset_index(drop=True)\n",
    "    df['t0'] = df['second']\n",
    "    df['t-1'] = df.groupby(['bookingID'])['second'].shift(+1)\n",
    "    df['diff'] = df['t0']-df['t-1']\n",
    "    #if diff > 5 minutes we consider that the trip has to be split into 2 sub parts\n",
    "    # we create a second bookingID because it doesn't make sense to interpolate for such a long duration\n",
    "    df['bookingID2'] = 0\n",
    "    df.loc[df['diff']>300,'bookingID2'] = 1\n",
    "    df['bookingID2'] = df.groupby(['bookingID'])['bookingID2'].transform('cumsum')\n",
    "    \n",
    "    df['time'] = pd.to_datetime(df[\"second\"], unit='s')\n",
    "    df = df.drop(['t0','t-1','diff'], axis=1)\n",
    "    \n",
    "    df = df.set_index(['time'])\n",
    "    \n",
    "    #expand and interpolate trip by booking ID and bookingID2\n",
    "    print(\"Expanding %s\" %_filename)\n",
    "    df = df.groupby(['bookingID','bookingID2'])[data_cols].resample('1S').asfreq().interpolate(method='linear')\n",
    "    df = df.reset_index()\n",
    "    df = df.drop(['time'], axis=1)\n",
    "    print(\"Saving... %s\" %_filename)\n",
    "    df.to_csv('./data/1-preprocessed/'+_filename, index=False)\n",
    "    print(\"Finished with %s \" %_filename)\n",
    "    "
   ]
  },
  {
   "cell_type": "code",
   "execution_count": 2,
   "metadata": {},
   "outputs": [
    {
     "name": "stdout",
     "output_type": "stream",
     "text": [
      "Processing part-00001-e6120af0-10c2-4248-97c4-81baf4304e5c-c000.csv\n",
      "Expanding part-00001-e6120af0-10c2-4248-97c4-81baf4304e5c-c000.csv\n",
      "Saving... part-00001-e6120af0-10c2-4248-97c4-81baf4304e5c-c000.csv\n",
      "Finished with part-00001-e6120af0-10c2-4248-97c4-81baf4304e5c-c000.csv \n",
      "Finished to expand all files.\n",
      "Processing part-00003-e6120af0-10c2-4248-97c4-81baf4304e5c-c000.csv\n",
      "Expanding part-00003-e6120af0-10c2-4248-97c4-81baf4304e5c-c000.csv\n",
      "Saving... part-00003-e6120af0-10c2-4248-97c4-81baf4304e5c-c000.csv\n",
      "Finished with part-00003-e6120af0-10c2-4248-97c4-81baf4304e5c-c000.csv \n",
      "Finished to expand all files.\n",
      "Processing part-00004-e6120af0-10c2-4248-97c4-81baf4304e5c-c000.csv\n",
      "Expanding part-00004-e6120af0-10c2-4248-97c4-81baf4304e5c-c000.csv\n",
      "Saving... part-00004-e6120af0-10c2-4248-97c4-81baf4304e5c-c000.csv\n",
      "Finished with part-00004-e6120af0-10c2-4248-97c4-81baf4304e5c-c000.csv \n",
      "Finished to expand all files.\n",
      "Processing part-00000-e6120af0-10c2-4248-97c4-81baf4304e5c-c000.csv\n",
      "Expanding part-00000-e6120af0-10c2-4248-97c4-81baf4304e5c-c000.csv\n",
      "Saving... part-00000-e6120af0-10c2-4248-97c4-81baf4304e5c-c000.csv\n",
      "Finished with part-00000-e6120af0-10c2-4248-97c4-81baf4304e5c-c000.csv \n",
      "Finished to expand all files.\n",
      "Processing part-00008-e6120af0-10c2-4248-97c4-81baf4304e5c-c000.csv\n",
      "Expanding part-00008-e6120af0-10c2-4248-97c4-81baf4304e5c-c000.csv\n",
      "Saving... part-00008-e6120af0-10c2-4248-97c4-81baf4304e5c-c000.csv\n",
      "Finished with part-00008-e6120af0-10c2-4248-97c4-81baf4304e5c-c000.csv \n",
      "Finished to expand all files.\n",
      "Processing part-00002-e6120af0-10c2-4248-97c4-81baf4304e5c-c000.csv\n",
      "Expanding part-00002-e6120af0-10c2-4248-97c4-81baf4304e5c-c000.csv\n",
      "Saving... part-00002-e6120af0-10c2-4248-97c4-81baf4304e5c-c000.csv\n",
      "Finished with part-00002-e6120af0-10c2-4248-97c4-81baf4304e5c-c000.csv \n",
      "Finished to expand all files.\n",
      "Processing part-00009-e6120af0-10c2-4248-97c4-81baf4304e5c-c000.csv\n",
      "Expanding part-00009-e6120af0-10c2-4248-97c4-81baf4304e5c-c000.csv\n",
      "Saving... part-00009-e6120af0-10c2-4248-97c4-81baf4304e5c-c000.csv\n",
      "Finished with part-00009-e6120af0-10c2-4248-97c4-81baf4304e5c-c000.csv \n",
      "Finished to expand all files.\n",
      "Processing part-00005-e6120af0-10c2-4248-97c4-81baf4304e5c-c000.csv\n",
      "Expanding part-00005-e6120af0-10c2-4248-97c4-81baf4304e5c-c000.csv\n",
      "Saving... part-00005-e6120af0-10c2-4248-97c4-81baf4304e5c-c000.csv\n",
      "Finished with part-00005-e6120af0-10c2-4248-97c4-81baf4304e5c-c000.csv \n",
      "Finished to expand all files.\n",
      "Processing part-00006-e6120af0-10c2-4248-97c4-81baf4304e5c-c000.csv\n",
      "Expanding part-00006-e6120af0-10c2-4248-97c4-81baf4304e5c-c000.csv\n",
      "Saving... part-00006-e6120af0-10c2-4248-97c4-81baf4304e5c-c000.csv\n",
      "Finished with part-00006-e6120af0-10c2-4248-97c4-81baf4304e5c-c000.csv \n",
      "Finished to expand all files.\n",
      "Processing part-00007-e6120af0-10c2-4248-97c4-81baf4304e5c-c000.csv\n",
      "Expanding part-00007-e6120af0-10c2-4248-97c4-81baf4304e5c-c000.csv\n",
      "Saving... part-00007-e6120af0-10c2-4248-97c4-81baf4304e5c-c000.csv\n",
      "Finished with part-00007-e6120af0-10c2-4248-97c4-81baf4304e5c-c000.csv \n",
      "Finished to expand all files.\n"
     ]
    }
   ],
   "source": [
    "mypath = './data/0-raw_data/safety/features/'\n",
    "onlyfiles = [f for f in listdir(mypath) if f.startswith('part-')]\n",
    "\n",
    "for filename in onlyfiles:\n",
    "    expand_interpolate(filename)\n",
    "print(\"Finished to expand all files.\")"
   ]
  },
  {
   "cell_type": "code",
   "execution_count": null,
   "metadata": {},
   "outputs": [],
   "source": []
  }
 ],
 "metadata": {
  "kernelspec": {
   "display_name": "Environment (conda_tensorflow_p36)",
   "language": "python",
   "name": "conda_tensorflow_p36"
  },
  "language_info": {
   "codemirror_mode": {
    "name": "ipython",
    "version": 3
   },
   "file_extension": ".py",
   "mimetype": "text/x-python",
   "name": "python",
   "nbconvert_exporter": "python",
   "pygments_lexer": "ipython3",
   "version": "3.6.5"
  }
 },
 "nbformat": 4,
 "nbformat_minor": 2
}
