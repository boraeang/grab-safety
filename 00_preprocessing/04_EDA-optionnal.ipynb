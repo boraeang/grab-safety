{
 "cells": [
  {
   "cell_type": "markdown",
   "metadata": {},
   "source": [
    "#### Just a very quick exploratory data analysis to see what is inside the data\n",
    "#### Due to time constraints EDA was not pushed very far"
   ]
  },
  {
   "cell_type": "code",
   "execution_count": 1,
   "metadata": {},
   "outputs": [],
   "source": [
    "## coding=utf-8\n",
    "%matplotlib inline\n",
    "import pandas as pd\n",
    "import numpy as np\n",
    "import matplotlib.pyplot as plt\n",
    "import random\n",
    "from sklearn import preprocessing\n",
    "from skimage.transform import resize\n",
    "\n",
    "pd.set_option('display.width', 3000)\n",
    "pd.set_option('display.max_rows', 200)\n",
    "pd.set_option('display.max_columns', 210)"
   ]
  },
  {
   "cell_type": "markdown",
   "metadata": {},
   "source": [
    "#### Import dataset"
   ]
  },
  {
   "cell_type": "code",
   "execution_count": 3,
   "metadata": {},
   "outputs": [
    {
     "data": {
      "text/html": [
       "<div>\n",
       "<style scoped>\n",
       "    .dataframe tbody tr th:only-of-type {\n",
       "        vertical-align: middle;\n",
       "    }\n",
       "\n",
       "    .dataframe tbody tr th {\n",
       "        vertical-align: top;\n",
       "    }\n",
       "\n",
       "    .dataframe thead th {\n",
       "        text-align: right;\n",
       "    }\n",
       "</style>\n",
       "<table border=\"1\" class=\"dataframe\">\n",
       "  <thead>\n",
       "    <tr style=\"text-align: right;\">\n",
       "      <th></th>\n",
       "      <th>bookingID</th>\n",
       "      <th>bookingID2</th>\n",
       "      <th>Accuracy</th>\n",
       "      <th>Bearing</th>\n",
       "      <th>acceleration_x</th>\n",
       "      <th>acceleration_y</th>\n",
       "      <th>acceleration_z</th>\n",
       "      <th>gyro_x</th>\n",
       "      <th>gyro_y</th>\n",
       "      <th>gyro_z</th>\n",
       "      <th>Speed</th>\n",
       "      <th>second</th>\n",
       "    </tr>\n",
       "  </thead>\n",
       "  <tbody>\n",
       "    <tr>\n",
       "      <th>0</th>\n",
       "      <td>0</td>\n",
       "      <td>0</td>\n",
       "      <td>12.0</td>\n",
       "      <td>143.298294</td>\n",
       "      <td>0.818112</td>\n",
       "      <td>-9.941461</td>\n",
       "      <td>-2.014999</td>\n",
       "      <td>-0.016245</td>\n",
       "      <td>-0.094040</td>\n",
       "      <td>0.070732</td>\n",
       "      <td>3.442991</td>\n",
       "      <td>0.0</td>\n",
       "    </tr>\n",
       "    <tr>\n",
       "      <th>1</th>\n",
       "      <td>0</td>\n",
       "      <td>0</td>\n",
       "      <td>8.0</td>\n",
       "      <td>143.298294</td>\n",
       "      <td>0.546405</td>\n",
       "      <td>-9.835590</td>\n",
       "      <td>-2.038925</td>\n",
       "      <td>-0.047092</td>\n",
       "      <td>-0.078874</td>\n",
       "      <td>0.043187</td>\n",
       "      <td>0.228454</td>\n",
       "      <td>1.0</td>\n",
       "    </tr>\n",
       "    <tr>\n",
       "      <th>2</th>\n",
       "      <td>0</td>\n",
       "      <td>0</td>\n",
       "      <td>8.0</td>\n",
       "      <td>143.298294</td>\n",
       "      <td>-1.706207</td>\n",
       "      <td>-9.270792</td>\n",
       "      <td>-1.209448</td>\n",
       "      <td>-0.028965</td>\n",
       "      <td>-0.032652</td>\n",
       "      <td>0.015390</td>\n",
       "      <td>0.228454</td>\n",
       "      <td>2.0</td>\n",
       "    </tr>\n",
       "    <tr>\n",
       "      <th>3</th>\n",
       "      <td>0</td>\n",
       "      <td>0</td>\n",
       "      <td>8.0</td>\n",
       "      <td>143.298294</td>\n",
       "      <td>-1.416705</td>\n",
       "      <td>-9.548032</td>\n",
       "      <td>-1.860977</td>\n",
       "      <td>-0.022413</td>\n",
       "      <td>0.005049</td>\n",
       "      <td>-0.025753</td>\n",
       "      <td>0.228454</td>\n",
       "      <td>3.0</td>\n",
       "    </tr>\n",
       "    <tr>\n",
       "      <th>4</th>\n",
       "      <td>0</td>\n",
       "      <td>0</td>\n",
       "      <td>8.0</td>\n",
       "      <td>143.298294</td>\n",
       "      <td>-0.598145</td>\n",
       "      <td>-9.853534</td>\n",
       "      <td>-1.378574</td>\n",
       "      <td>-0.014297</td>\n",
       "      <td>-0.046206</td>\n",
       "      <td>0.021902</td>\n",
       "      <td>0.228454</td>\n",
       "      <td>4.0</td>\n",
       "    </tr>\n",
       "  </tbody>\n",
       "</table>\n",
       "</div>"
      ],
      "text/plain": [
       "   bookingID  bookingID2  Accuracy     Bearing  acceleration_x  acceleration_y  acceleration_z    gyro_x    gyro_y    gyro_z     Speed  second\n",
       "0          0           0      12.0  143.298294        0.818112       -9.941461       -2.014999 -0.016245 -0.094040  0.070732  3.442991     0.0\n",
       "1          0           0       8.0  143.298294        0.546405       -9.835590       -2.038925 -0.047092 -0.078874  0.043187  0.228454     1.0\n",
       "2          0           0       8.0  143.298294       -1.706207       -9.270792       -1.209448 -0.028965 -0.032652  0.015390  0.228454     2.0\n",
       "3          0           0       8.0  143.298294       -1.416705       -9.548032       -1.860977 -0.022413  0.005049 -0.025753  0.228454     3.0\n",
       "4          0           0       8.0  143.298294       -0.598145       -9.853534       -1.378574 -0.014297 -0.046206  0.021902  0.228454     4.0"
      ]
     },
     "execution_count": 3,
     "metadata": {},
     "output_type": "execute_result"
    }
   ],
   "source": [
    "df = pd.read_parquet('../data/1-preprocessed/features.parquet')\n",
    "\n",
    "df.head()"
   ]
  },
  {
   "cell_type": "code",
   "execution_count": 4,
   "metadata": {},
   "outputs": [],
   "source": [
    "features = ['Accuracy', 'Bearing', \n",
    "            'acceleration_x', 'acceleration_y', 'acceleration_z', \n",
    "            'gyro_x', 'gyro_y', 'gyro_z', 'Speed',]"
   ]
  },
  {
   "cell_type": "code",
   "execution_count": 5,
   "metadata": {},
   "outputs": [
    {
     "data": {
      "text/html": [
       "<div>\n",
       "<style scoped>\n",
       "    .dataframe tbody tr th:only-of-type {\n",
       "        vertical-align: middle;\n",
       "    }\n",
       "\n",
       "    .dataframe tbody tr th {\n",
       "        vertical-align: top;\n",
       "    }\n",
       "\n",
       "    .dataframe thead th {\n",
       "        text-align: right;\n",
       "    }\n",
       "</style>\n",
       "<table border=\"1\" class=\"dataframe\">\n",
       "  <thead>\n",
       "    <tr style=\"text-align: right;\">\n",
       "      <th></th>\n",
       "      <th>bookingID</th>\n",
       "      <th>bookingID2</th>\n",
       "      <th>Accuracy</th>\n",
       "      <th>Bearing</th>\n",
       "      <th>acceleration_x</th>\n",
       "      <th>acceleration_y</th>\n",
       "      <th>acceleration_z</th>\n",
       "      <th>gyro_x</th>\n",
       "      <th>gyro_y</th>\n",
       "      <th>gyro_z</th>\n",
       "      <th>Speed</th>\n",
       "      <th>second</th>\n",
       "    </tr>\n",
       "  </thead>\n",
       "  <tbody>\n",
       "    <tr>\n",
       "      <th>0</th>\n",
       "      <td>0</td>\n",
       "      <td>0</td>\n",
       "      <td>-0.065808</td>\n",
       "      <td>-0.203014</td>\n",
       "      <td>0.519251</td>\n",
       "      <td>-1.799007</td>\n",
       "      <td>-0.905112</td>\n",
       "      <td>-0.097848</td>\n",
       "      <td>-0.272418</td>\n",
       "      <td>0.445517</td>\n",
       "      <td>-0.654882</td>\n",
       "      <td>0.0</td>\n",
       "    </tr>\n",
       "    <tr>\n",
       "      <th>1</th>\n",
       "      <td>0</td>\n",
       "      <td>0</td>\n",
       "      <td>-0.094146</td>\n",
       "      <td>-0.203014</td>\n",
       "      <td>0.331579</td>\n",
       "      <td>-1.785868</td>\n",
       "      <td>-0.912408</td>\n",
       "      <td>-0.303750</td>\n",
       "      <td>-0.228581</td>\n",
       "      <td>0.272730</td>\n",
       "      <td>-1.050530</td>\n",
       "      <td>1.0</td>\n",
       "    </tr>\n",
       "    <tr>\n",
       "      <th>2</th>\n",
       "      <td>0</td>\n",
       "      <td>0</td>\n",
       "      <td>-0.094146</td>\n",
       "      <td>-0.203014</td>\n",
       "      <td>-1.224332</td>\n",
       "      <td>-1.715775</td>\n",
       "      <td>-0.659474</td>\n",
       "      <td>-0.182755</td>\n",
       "      <td>-0.094979</td>\n",
       "      <td>0.098366</td>\n",
       "      <td>-1.050530</td>\n",
       "      <td>2.0</td>\n",
       "    </tr>\n",
       "    <tr>\n",
       "      <th>3</th>\n",
       "      <td>0</td>\n",
       "      <td>0</td>\n",
       "      <td>-0.094146</td>\n",
       "      <td>-0.203014</td>\n",
       "      <td>-1.024369</td>\n",
       "      <td>-1.750181</td>\n",
       "      <td>-0.858146</td>\n",
       "      <td>-0.139022</td>\n",
       "      <td>0.013993</td>\n",
       "      <td>-0.159713</td>\n",
       "      <td>-1.050530</td>\n",
       "      <td>3.0</td>\n",
       "    </tr>\n",
       "    <tr>\n",
       "      <th>4</th>\n",
       "      <td>0</td>\n",
       "      <td>0</td>\n",
       "      <td>-0.094146</td>\n",
       "      <td>-0.203014</td>\n",
       "      <td>-0.458978</td>\n",
       "      <td>-1.788095</td>\n",
       "      <td>-0.711045</td>\n",
       "      <td>-0.084845</td>\n",
       "      <td>-0.134154</td>\n",
       "      <td>0.139211</td>\n",
       "      <td>-1.050530</td>\n",
       "      <td>4.0</td>\n",
       "    </tr>\n",
       "  </tbody>\n",
       "</table>\n",
       "</div>"
      ],
      "text/plain": [
       "   bookingID  bookingID2  Accuracy   Bearing  acceleration_x  acceleration_y  acceleration_z    gyro_x    gyro_y    gyro_z     Speed  second\n",
       "0          0           0 -0.065808 -0.203014        0.519251       -1.799007       -0.905112 -0.097848 -0.272418  0.445517 -0.654882     0.0\n",
       "1          0           0 -0.094146 -0.203014        0.331579       -1.785868       -0.912408 -0.303750 -0.228581  0.272730 -1.050530     1.0\n",
       "2          0           0 -0.094146 -0.203014       -1.224332       -1.715775       -0.659474 -0.182755 -0.094979  0.098366 -1.050530     2.0\n",
       "3          0           0 -0.094146 -0.203014       -1.024369       -1.750181       -0.858146 -0.139022  0.013993 -0.159713 -1.050530     3.0\n",
       "4          0           0 -0.094146 -0.203014       -0.458978       -1.788095       -0.711045 -0.084845 -0.134154  0.139211 -1.050530     4.0"
      ]
     },
     "execution_count": 5,
     "metadata": {},
     "output_type": "execute_result"
    }
   ],
   "source": [
    "# Standardize df\n",
    "# Create the Scaler object\n",
    "scaler = preprocessing.StandardScaler()\n",
    "# Fit your data on the scaler object\n",
    "df[features] = scaler.fit_transform(df[features])\n",
    "df.head()"
   ]
  },
  {
   "cell_type": "markdown",
   "metadata": {},
   "source": [
    "#### Check how many observations we have per booking ID"
   ]
  },
  {
   "cell_type": "code",
   "execution_count": 6,
   "metadata": {},
   "outputs": [
    {
     "data": {
      "text/plain": [
       "count    20000.000000\n",
       "mean       848.522350\n",
       "std        454.169604\n",
       "min        120.000000\n",
       "50%        780.000000\n",
       "90%       1456.000000\n",
       "95%       1621.000000\n",
       "99%       2083.010000\n",
       "max       8236.000000\n",
       "Name: second, dtype: float64"
      ]
     },
     "execution_count": 6,
     "metadata": {},
     "output_type": "execute_result"
    }
   ],
   "source": [
    "stats = df.groupby(['bookingID'] ,as_index=False).agg({'second':'count'})\n",
    "stats['second'].describe(percentiles=[.9,.95,.99])"
   ]
  },
  {
   "cell_type": "code",
   "execution_count": 7,
   "metadata": {},
   "outputs": [
    {
     "data": {
      "image/png": "[encoded data removed]",
      "text/plain": [
       "<Figure size 432x288 with 2 Axes>"
      ]
     },
     "metadata": {},
     "output_type": "display_data"
    }
   ],
   "source": [
    "# let's have a look at one trip\n",
    "trip = random.choice(list(df.bookingID.unique()))\n",
    "sample = df.loc[df.bookingID==trip]\n",
    "\n",
    "# plot a matrix of observation values\n",
    "plt.pcolor(sample[features].T.values)\n",
    "plt.ylabel(\"variable\")\n",
    "plt.xlabel(\"time\")\n",
    "plt.ylim(0,9)\n",
    "plt.colorbar()\n",
    "plt.show()"
   ]
  },
  {
   "cell_type": "code",
   "execution_count": 8,
   "metadata": {},
   "outputs": [
    {
     "data": {
      "image/png": "[encoded data removed]",
      "text/plain": [
       "<Figure size 432x288 with 2 Axes>"
      ]
     },
     "metadata": {},
     "output_type": "display_data"
    }
   ],
   "source": [
    "resized_sample = resize(sample[features].T.values, (9,500), mode='constant')\n",
    "# plot a matrix of observation values\n",
    "plt.pcolor(resized_sample)\n",
    "plt.ylabel(\"variable\")\n",
    "plt.xlabel(\"time\")\n",
    "plt.ylim(0,9)\n",
    "plt.colorbar()\n",
    "plt.show()"
   ]
  },
  {
   "cell_type": "markdown",
   "metadata": {},
   "source": [
    "#### Check the distribution of the target variable"
   ]
  },
  {
   "cell_type": "code",
   "execution_count": 11,
   "metadata": {},
   "outputs": [
    {
     "data": {
      "text/plain": [
       "count    20000.000000\n",
       "mean         0.250050\n",
       "std          0.433052\n",
       "min          0.000000\n",
       "25%          0.000000\n",
       "50%          0.000000\n",
       "75%          1.000000\n",
       "max          1.000000\n",
       "Name: label, dtype: float64"
      ]
     },
     "execution_count": 11,
     "metadata": {},
     "output_type": "execute_result"
    }
   ],
   "source": [
    "dt = pd.read_csv('../data/0-raw_data/safety/labels/part-00000-e9445087-aa0a-433b-a7f6-7f4c19d78ad6-c000.csv')\n",
    "dt = dt.groupby(['bookingID'], as_index=False)['label'].max()\n",
    "dt.label.describe()"
   ]
  },
  {
   "cell_type": "code",
   "execution_count": null,
   "metadata": {},
   "outputs": [],
   "source": []
  }
 ],
 "metadata": {
  "kernelspec": {
   "display_name": "Environment (conda_tensorflow_p36)",
   "language": "python",
   "name": "conda_tensorflow_p36"
  },
  "language_info": {
   "codemirror_mode": {
    "name": "ipython",
    "version": 3
   },
   "file_extension": ".py",
   "mimetype": "text/x-python",
   "name": "python",
   "nbconvert_exporter": "python",
   "pygments_lexer": "ipython3",
   "version": "3.6.5"
  }
 },
 "nbformat": 4,
 "nbformat_minor": 1
}
