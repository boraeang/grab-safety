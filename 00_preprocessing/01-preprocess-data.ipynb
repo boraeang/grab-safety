{
 "cells": [
  {
   "cell_type": "markdown",
   "metadata": {},
   "source": [
    "####  We regroup the different bookingID in all csv files into one big parquet file\n",
    "#### For missing information we interpolate the data as long as the duration of the missing values is less than 2 minutes"
   ]
  },
  {
   "cell_type": "code",
   "execution_count": 1,
   "metadata": {},
   "outputs": [],
   "source": [
    "import pandas as pd\n",
    "import numpy as np\n",
    "from os import listdir\n",
    "from os.path import isfile, join\n"
   ]
  },
  {
   "cell_type": "code",
   "execution_count": 3,
   "metadata": {},
   "outputs": [
    {
     "name": "stdout",
     "output_type": "stream",
     "text": [
      "Finished to regroup all bookingID into 1 dataframe\n",
      "(16135561, 11)\n",
      "Expanding\n",
      "(16970447, 13)\n",
      "Saving features...\n",
      "Finished to save file\n"
     ]
    }
   ],
   "source": [
    "mypath = '../data/0-raw_data/safety/features/'\n",
    "onlyfiles = [f for f in listdir(mypath) if f.startswith('part-')]\n",
    "\n",
    "cols = ['bookingID','Accuracy','Bearing',\n",
    "        'acceleration_x','acceleration_y','acceleration_z',\n",
    "        'gyro_x','gyro_y','gyro_z','second','Speed']\n",
    "\n",
    "data_cols = ['Accuracy','Bearing',\n",
    "             'acceleration_x','acceleration_y','acceleration_z',\n",
    "             'gyro_x','gyro_y','gyro_z','Speed','second']\n",
    "\n",
    "df = pd.DataFrame([])\n",
    "\n",
    "for filename in onlyfiles:\n",
    "    temp = pd.read_csv(mypath+filename)\n",
    "    temp = temp[cols]\n",
    "    temp = temp.loc[~temp.bookingID.isnull()]\n",
    "    df = df.append(temp)\n",
    "    df = df.sort_values(by=['bookingID','second']).reset_index(drop=True)\n",
    "print(\"Finished to regroup all bookingID into 1 dataframe\")\n",
    "print(df.shape)\n",
    "\n",
    "#interpolate data for diff<120\n",
    "df['t0'] = df['second']\n",
    "df['t-1'] = df.groupby(['bookingID'])['second'].shift(+1)\n",
    "df['diff'] = df['t0']-df['t-1']\n",
    "#if diff > 2 minutes we consider that the trip has to be split into 2 sub parts\n",
    "# we create a second bookingID because it doesn't make sense to interpolate for such a long duration\n",
    "df['bookingID2'] = 0\n",
    "df.loc[df['diff']>120,'bookingID2'] = 1\n",
    "df['bookingID2'] = df.groupby(['bookingID'])['bookingID2'].transform('cumsum')\n",
    "\n",
    "df['time'] = pd.to_datetime(df[\"second\"], unit='s')\n",
    "df = df.drop(['t0','t-1','diff'], axis=1)\n",
    "\n",
    "df = df.set_index(['time'])\n",
    "#expand and interpolate trip by booking ID and bookingID2\n",
    "print(\"Expanding\")\n",
    "df = df.groupby(['bookingID','bookingID2'])[data_cols].resample('1S').asfreq().interpolate(method='linear')\n",
    "df = df.reset_index()\n",
    "print(df.shape)\n",
    "\n",
    "df = df.drop(['time'], axis=1)\n",
    "print(\"Saving features...\")\n",
    "df.to_parquet('../data/1-preprocessed/features.parquet')\n",
    "print(\"Finished to save file\")"
   ]
  },
  {
   "cell_type": "code",
   "execution_count": null,
   "metadata": {},
   "outputs": [],
   "source": []
  }
 ],
 "metadata": {
  "kernelspec": {
   "display_name": "Environment (conda_tensorflow_p36)",
   "language": "python",
   "name": "conda_tensorflow_p36"
  },
  "language_info": {
   "codemirror_mode": {
    "name": "ipython",
    "version": 3
   },
   "file_extension": ".py",
   "mimetype": "text/x-python",
   "name": "python",
   "nbconvert_exporter": "python",
   "pygments_lexer": "ipython3",
   "version": "3.6.5"
  }
 },
 "nbformat": 4,
 "nbformat_minor": 2
}
