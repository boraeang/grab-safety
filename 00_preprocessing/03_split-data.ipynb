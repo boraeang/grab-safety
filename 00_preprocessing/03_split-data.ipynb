{
 "cells": [
  {
   "cell_type": "markdown",
   "metadata": {},
   "source": [
    "#### We split data between training set and validation set\n",
    "#### Validation set will remain untouched and will be used only to assess the final performance of models"
   ]
  },
  {
   "cell_type": "code",
   "execution_count": 1,
   "metadata": {},
   "outputs": [],
   "source": [
    "## coding=utf-8\n",
    "import pandas as pd\n",
    "import numpy as np\n",
    "\n",
    "from sklearn.model_selection import StratifiedShuffleSplit"
   ]
  },
  {
   "cell_type": "markdown",
   "metadata": {},
   "source": [
    "#### We start with the dataframe for XGBoost"
   ]
  },
  {
   "cell_type": "code",
   "execution_count": 2,
   "metadata": {},
   "outputs": [],
   "source": [
    "sss = StratifiedShuffleSplit(n_splits=1, test_size=0.20, random_state=0)"
   ]
  },
  {
   "cell_type": "code",
   "execution_count": 3,
   "metadata": {},
   "outputs": [],
   "source": [
    "df_xgb1 = pd.read_parquet('../data/2-features/features_xgboost.parquet')\n",
    "df_xgb1 = df_xgb1.drop('label', axis=1)\n",
    "df_xgb2 = pd.read_parquet('../data/2-features/features_xgboost2.parquet')\n",
    "keep_cols2 = ['bookingID']+[col for col in df_xgb2.columns if col not in df_xgb1.columns]\n",
    "df_xgb = df_xgb1.merge(df_xgb2[keep_cols2], on='bookingID', how='left')"
   ]
  },
  {
   "cell_type": "markdown",
   "metadata": {},
   "source": [
    "#### Split the dataframe and save it"
   ]
  },
  {
   "cell_type": "code",
   "execution_count": 4,
   "metadata": {},
   "outputs": [
    {
     "name": "stdout",
     "output_type": "stream",
     "text": [
      "TRAIN: [11647  4574  1465 ...  9257  2788 15258] TEST: [ 2886 15218  3538 ... 11004  5637 13981]\n",
      "[ 936302870586  352187318394  111669149767 ...  730144440431  206158430277\n",
      " 1288490188883]\n"
     ]
    }
   ],
   "source": [
    "for train_index, valid_index in sss.split(df_xgb, df_xgb['label']):\n",
    "    print(\"TRAIN:\", train_index, \"TEST:\", valid_index)\n",
    "    df_xgb_train, df_xgb_valid = df_xgb.loc[train_index], df_xgb.loc[valid_index]\n",
    "    \n",
    "df_xgb_train = df_xgb_train.reset_index(drop=True)\n",
    "df_xgb_valid = df_xgb_valid.reset_index(drop=True)\n",
    "    \n",
    "df_xgb_train.to_parquet('../data/3-ml_datasets/df_xgb_train.parquet')\n",
    "df_xgb_valid.to_parquet('../data/3-ml_datasets/df_xgb_valid.parquet')\n",
    "\n",
    "print(df_xgb_train.bookingID.values)"
   ]
  }
 ],
 "metadata": {
  "kernelspec": {
   "display_name": "Environment (conda_tensorflow_p36)",
   "language": "python",
   "name": "conda_tensorflow_p36"
  },
  "language_info": {
   "codemirror_mode": {
    "name": "ipython",
    "version": 3
   },
   "file_extension": ".py",
   "mimetype": "text/x-python",
   "name": "python",
   "nbconvert_exporter": "python",
   "pygments_lexer": "ipython3",
   "version": "3.6.5"
  }
 },
 "nbformat": 4,
 "nbformat_minor": 2
}
